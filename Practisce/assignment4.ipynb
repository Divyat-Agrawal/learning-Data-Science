{
 "cells": [
  {
   "cell_type": "markdown",
   "metadata": {},
   "source": [
    "## Assignment - 4"
   ]
  },
  {
   "cell_type": "markdown",
   "metadata": {},
   "source": [
    "### Q1\n",
    "\n",
    "Create a pandas DataFrame named `students` with columns 'Name',\n",
    "'Age', and 'Grade' containing the following data:"
   ]
  },
  {
   "cell_type": "code",
   "execution_count": 1,
   "metadata": {},
   "outputs": [
    {
     "name": "stdout",
     "output_type": "stream",
     "text": [
      "      Name  Age Grade\n",
      "0    Alice   20     A\n",
      "1      Bob   22     B\n",
      "2  Charlie   21     C\n",
      "3    David   23     A\n",
      "4      Eve   24     B\n"
     ]
    }
   ],
   "source": [
    "import pandas as pd\n",
    "data ={\n",
    "    'Name': ['Alice', 'Bob', 'Charlie', 'David', 'Eve'],\n",
    "    'Age': [20, 22, 21, 23, 24],\n",
    "    'Grade': ['A', 'B', 'C', 'A', 'B']\n",
    "}\n",
    "\n",
    "students = pd.DataFrame(data)\n",
    "print(students)"
   ]
  },
  {
   "cell_type": "markdown",
   "metadata": {},
   "source": [
    "## Q2\n",
    "\n",
    "Remove the row with 'Name' equal to 'David' from the `students`\n",
    "DataFrame."
   ]
  },
  {
   "cell_type": "code",
   "execution_count": 4,
   "metadata": {},
   "outputs": [
    {
     "name": "stdout",
     "output_type": "stream",
     "text": [
      "      Name  Age Grade\n",
      "0    Alice   20     A\n",
      "1      Bob   22     B\n",
      "2  Charlie   21     C\n",
      "4      Eve   24     B\n"
     ]
    }
   ],
   "source": [
    "import pandas as pd\n",
    "\n",
    "data = {\n",
    "    'Name': ['Alice', 'Bob', 'Charlie', 'David', 'Eve'],\n",
    "    'Age': [20, 22, 21, 23, 24],\n",
    "    'Grade': ['A', 'B', 'C', 'A', 'B']\n",
    "}\n",
    "\n",
    "students = pd.DataFrame(data)\n",
    "\n",
    "# Remove the row with 'Name' equal to 'David'\n",
    "# students = students.drop(students[students['Name'] == 'David'].index)\n",
    "students = students[students['Name'] != 'David']\n",
    "\n",
    "print(students)\n"
   ]
  },
  {
   "cell_type": "markdown",
   "metadata": {},
   "source": [
    "## Q3\n",
    "Select and display the 'Name' and 'Grade' columns for students with an\n",
    "'Age' greater than 25.\n"
   ]
  },
  {
   "cell_type": "code",
   "execution_count": 6,
   "metadata": {},
   "outputs": [
    {
     "name": "stdout",
     "output_type": "stream",
     "text": [
      "      Name Grade\n",
      "2  Charlie     C\n",
      "4      Eve     B\n"
     ]
    }
   ],
   "source": [
    "import pandas as pd\n",
    "\n",
    "data = {\n",
    "    'Name': ['Alice', 'Bob', 'Charlie', 'David', 'Eve'],\n",
    "    'Age': [20, 22, 30, 23, 28],\n",
    "    'Grade': ['A', 'B', 'C', 'A', 'B']\n",
    "}\n",
    "\n",
    "students = pd.DataFrame(data)\n",
    "\n",
    "# Select rows where 'Age' is greater than 25 and display 'Name' and 'Grade' columns\n",
    "result = students[students['Age'] > 25][['Name', 'Grade']]\n",
    "\n",
    "print(result)\n"
   ]
  },
  {
   "cell_type": "markdown",
   "metadata": {},
   "source": [
    "### Q4\n",
    "\n",
    "Problem: Create a new column 'Grade_Squared' that contains the square of each\n",
    "student's 'Grade'.\n"
   ]
  },
  {
   "cell_type": "code",
   "execution_count": 12,
   "metadata": {},
   "outputs": [
    {
     "name": "stdout",
     "output_type": "stream",
     "text": [
      "      Name  Age Grade  Grade_Squared\n",
      "0    Alice   20     A              1\n",
      "1      Bob   22     B              4\n",
      "2  Charlie   30     C              9\n",
      "3    David   23     A              1\n",
      "4      Eve   28     B              4\n"
     ]
    }
   ],
   "source": [
    "import pandas as pd\n",
    "\n",
    "data = {\n",
    "    'Name': ['Alice', 'Bob', 'Charlie', 'David', 'Eve'],\n",
    "    'Age': [20, 22, 30, 23, 28],\n",
    "    'Grade': ['A', 'B', 'C', 'A', 'B']\n",
    "}\n",
    "\n",
    "students = pd.DataFrame(data)\n",
    "\n",
    "# Define a mapping of grades to numeric values\n",
    "grade_mapping = {'A': 1, 'B': 2, 'C': 3, 'D': 4, 'E': 5}\n",
    "\n",
    "# Create a new column 'Grade_Squared' with the square of the numeric grade\n",
    "students['Grade_Squared'] = students['Grade'].map(grade_mapping) ** 2\n",
    "\n",
    "print(students)\n"
   ]
  },
  {
   "cell_type": "markdown",
   "metadata": {},
   "source": [
    "### Q5\n",
    "\n",
    "Problem: Sort the `students` DataFrame by 'Grade' in descending order"
   ]
  },
  {
   "cell_type": "code",
   "execution_count": 13,
   "metadata": {},
   "outputs": [
    {
     "name": "stdout",
     "output_type": "stream",
     "text": [
      "      Name  Age Grade\n",
      "2  Charlie   30     C\n",
      "1      Bob   22     B\n",
      "4      Eve   28     B\n",
      "0    Alice   20     A\n",
      "3    David   23     A\n"
     ]
    }
   ],
   "source": [
    "import pandas as pd\n",
    "\n",
    "data = {\n",
    "    'Name': ['Alice', 'Bob', 'Charlie', 'David', 'Eve'],\n",
    "    'Age': [20, 22, 30, 23, 28],\n",
    "    'Grade': ['A', 'B', 'C', 'A', 'B']\n",
    "}\n",
    "\n",
    "students = pd.DataFrame(data)\n",
    "\n",
    "# Sort the DataFrame by 'Grade' in descending order\n",
    "students = students.sort_values(by='Grade', ascending=False)\n",
    "\n",
    "print(students)\n"
   ]
  },
  {
   "cell_type": "markdown",
   "metadata": {},
   "source": [
    "### Q6\n",
    "Problem: Calculate and display the mean, standard deviation, skewness, and\n",
    "kurtosis of the 'Grade' column."
   ]
  },
  {
   "cell_type": "code",
   "execution_count": 15,
   "metadata": {},
   "outputs": [
    {
     "name": "stdout",
     "output_type": "stream",
     "text": [
      "Converted DataFrame:\n",
      "      Name  Age  Grade\n",
      "0    Alice   20      4\n",
      "1      Bob   22      3\n",
      "2  Charlie   30      2\n",
      "3    David   23      4\n",
      "4      Eve   28      3\n",
      "\n",
      "Mean Grade: 3.2\n",
      "Standard Deviation: 0.8366600265340756\n",
      "Skewness: -0.512240832571884\n",
      "Kurtosis: -0.6122448979591812\n"
     ]
    }
   ],
   "source": [
    "import pandas as pd\n",
    "\n",
    "data = {\n",
    "    'Name': ['Alice', 'Bob', 'Charlie', 'David', 'Eve'],\n",
    "    'Age': [20, 22, 30, 23, 28],\n",
    "    'Grade': ['A', 'B', 'C', 'A', 'B']\n",
    "}\n",
    "\n",
    "students = pd.DataFrame(data)\n",
    "\n",
    "# Define a mapping of grades to numeric values\n",
    "grade_mapping = {'A': 4, 'B': 3, 'C': 2, 'D': 1, 'E': 0}\n",
    "\n",
    "# Convert the 'Grade' column to numeric values\n",
    "students['Grade'] = students['Grade'].map(grade_mapping)\n",
    "\n",
    "# Calculate the mean, standard deviation, skewness, and kurtosis of the 'Grade' column\n",
    "mean_grade = students['Grade'].mean()\n",
    "std_deviation = students['Grade'].std()\n",
    "skewness = students['Grade'].skew()\n",
    "kurtosis = students['Grade'].kurtosis()\n",
    "\n",
    "print(\"Converted DataFrame:\")\n",
    "print(students)\n",
    "print(\"\\nMean Grade:\", mean_grade)\n",
    "print(\"Standard Deviation:\", std_deviation)\n",
    "print(\"Skewness:\", skewness)\n",
    "print(\"Kurtosis:\", kurtosis)\n"
   ]
  },
  {
   "cell_type": "markdown",
   "metadata": {},
   "source": [
    "### Q7\n",
    "\n",
    "Problem: Find and display the unique values in the 'Age' column and their\n",
    "corresponding counts."
   ]
  },
  {
   "cell_type": "code",
   "execution_count": 16,
   "metadata": {},
   "outputs": [
    {
     "name": "stdout",
     "output_type": "stream",
     "text": [
      "Unique Age Values and Their Counts:\n",
      "20    1\n",
      "22    1\n",
      "30    1\n",
      "23    1\n",
      "28    1\n",
      "Name: Age, dtype: int64\n"
     ]
    }
   ],
   "source": [
    "import pandas as pd\n",
    "\n",
    "data = {\n",
    "    'Name': ['Alice', 'Bob', 'Charlie', 'David', 'Eve'],\n",
    "    'Age': [20, 22, 30, 23, 28],\n",
    "    'Grade': ['A', 'B', 'C', 'A', 'B']\n",
    "}\n",
    "\n",
    "students = pd.DataFrame(data)\n",
    "\n",
    "# Find unique values in the 'Age' column and their counts\n",
    "age_counts = students['Age'].value_counts()\n",
    "\n",
    "print(\"Unique Age Values and Their Counts:\")\n",
    "print(age_counts)\n"
   ]
  },
  {
   "cell_type": "markdown",
   "metadata": {},
   "source": [
    "### Q8\n",
    "Problem: Check if the name 'Alice' is present in the 'Name' column of the\n",
    "`students` DataFrame."
   ]
  },
  {
   "cell_type": "code",
   "execution_count": null,
   "metadata": {},
   "outputs": [],
   "source": []
  },
  {
   "cell_type": "markdown",
   "metadata": {},
   "source": [
    "### Q9\n",
    "Problem: Write the `students` DataFrame to a CSV file named 'student_data.csv'."
   ]
  },
  {
   "cell_type": "code",
   "execution_count": 17,
   "metadata": {},
   "outputs": [
    {
     "name": "stdout",
     "output_type": "stream",
     "text": [
      "The name 'Alice' is present in the 'Name' column.\n"
     ]
    }
   ],
   "source": [
    "import pandas as pd\n",
    "\n",
    "data = {\n",
    "    'Name': ['Alice', 'Bob', 'Charlie', 'David', 'Eve'],\n",
    "    'Age': [20, 22, 30, 23, 28],\n",
    "    'Grade': ['A', 'B', 'C', 'A', 'B']\n",
    "}\n",
    "\n",
    "students = pd.DataFrame(data)\n",
    "\n",
    "# Check if 'Alice' is present in the 'Name' column\n",
    "is_alice_present = (students['Name'] == 'Alice').any()\n",
    "\n",
    "if is_alice_present:\n",
    "    print(\"The name 'Alice' is present in the 'Name' column.\")\n",
    "else:\n",
    "    print(\"The name 'Alice' is not present in the 'Name' column.\")\n"
   ]
  },
  {
   "cell_type": "markdown",
   "metadata": {},
   "source": [
    "### Q10\n",
    "\n",
    "Problem: Read the data from the 'student_data.csv' file into a new DataFrame\n",
    "named 'read_students'."
   ]
  },
  {
   "cell_type": "code",
   "execution_count": null,
   "metadata": {},
   "outputs": [],
   "source": [
    "import pandas as pd\n",
    "\n",
    "# Assuming 'student_data.csv' is in the same directory as your Python script\n",
    "file_path = 'student_data.csv'\n",
    "\n",
    "# Read the data from the CSV file into a new DataFrame\n",
    "read_students = pd.read_csv(file_path)\n",
    "\n",
    "# Now, 'read_students' contains the data from the CSV file\n"
   ]
  }
 ],
 "metadata": {
  "kernelspec": {
   "display_name": "base",
   "language": "python",
   "name": "python3"
  },
  "language_info": {
   "codemirror_mode": {
    "name": "ipython",
    "version": 3
   },
   "file_extension": ".py",
   "mimetype": "text/x-python",
   "name": "python",
   "nbconvert_exporter": "python",
   "pygments_lexer": "ipython3",
   "version": "3.9.7"
  }
 },
 "nbformat": 4,
 "nbformat_minor": 2
}
