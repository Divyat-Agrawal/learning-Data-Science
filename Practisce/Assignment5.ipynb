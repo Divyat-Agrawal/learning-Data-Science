{
 "cells": [
  {
   "cell_type": "markdown",
   "metadata": {},
   "source": [
    "## Assignment 5\n"
   ]
  },
  {
   "cell_type": "code",
   "execution_count": 2,
   "metadata": {},
   "outputs": [
    {
     "name": "stdout",
     "output_type": "stream",
     "text": [
      "         Date  Year\n",
      "0  2023-05-15  2023\n",
      "1  2022-11-30  2022\n",
      "2  2021-08-10  2021\n",
      "3  2023-02-28  2023\n"
     ]
    }
   ],
   "source": [
    "import pandas as pd\n",
    "\n",
    "# Sample DataFrame with a 'Date' column\n",
    "data = {\n",
    "    'Date': ['2023-05-15', '2022-11-30', '2021-08-10', '2023-02-28']\n",
    "}\n",
    "\n",
    "df = pd.DataFrame(data)\n",
    "\n",
    "# Custom function to extract the year from the 'Date' column\n",
    "def extract_year(date_str):\n",
    "    return int(date_str.split('-')[0])\n",
    "\n",
    "# Apply the custom function to create a new 'Year' column\n",
    "df['Year'] = df['Date'].apply(extract_year)\n",
    "\n",
    "# Display the updated DataFrame\n",
    "print(df)\n"
   ]
  },
  {
   "cell_type": "code",
   "execution_count": 7,
   "metadata": {},
   "outputs": [
    {
     "name": "stdout",
     "output_type": "stream",
     "text": [
      "         Date  Year\n",
      "0  2023-05-15  2023\n",
      "1  2022-11-30  2022\n",
      "2  2021-08-10  2021\n",
      "3  2023-02-28  2023\n"
     ]
    }
   ],
   "source": [
    "import pandas as pd\n",
    "\n",
    "# Sample DataFrame with a 'Date' column\n",
    "data = {\n",
    "    'Date': ['2023-05-15', '2022-11-30', '2021-08-10', '2023-02-28']\n",
    "}\n",
    "\n",
    "df = pd.DataFrame(data)\n",
    "# print(df)\n",
    "\n",
    "# Extract the year and add it to a new 'Year' column\n",
    "def extract_year(df):\n",
    "    return df['Date'].str[:4]\n",
    "\n",
    "df['Year'] = extract_year(df)\n",
    "\n",
    "\n",
    "# Display the updated DataFrame\n",
    "print(df)"
   ]
  },
  {
   "cell_type": "code",
   "execution_count": 5,
   "metadata": {},
   "outputs": [
    {
     "name": "stdout",
     "output_type": "stream",
     "text": [
      "   Values\n",
      "0     5.0\n",
      "1     6.5\n",
      "2     8.0\n",
      "3     6.5\n",
      "4    10.0\n",
      "5     6.5\n",
      "6     6.5\n",
      "7     3.0\n",
      "8     6.5\n"
     ]
    }
   ],
   "source": [
    "import pandas as pd\n",
    "\n",
    "# Sample DataFrame with a column containing numerical values (including 0s)\n",
    "data = {\n",
    "    'Values': [5, 0, 8, 0, 10, 0, 0, 3, 0]\n",
    "}\n",
    "\n",
    "df = pd.DataFrame(data)\n",
    "\n",
    "# Replace 0 values with the mean of non-zero values\n",
    "df['Values'].replace(0, df['Values'][df['Values'] != 0].mean(), inplace=True)\n",
    "\n",
    "# Display the updated DataFrame\n",
    "print(df)\n"
   ]
  },
  {
   "cell_type": "code",
   "execution_count": null,
   "metadata": {},
   "outputs": [],
   "source": []
  }
 ],
 "metadata": {
  "kernelspec": {
   "display_name": "base",
   "language": "python",
   "name": "python3"
  },
  "language_info": {
   "codemirror_mode": {
    "name": "ipython",
    "version": 3
   },
   "file_extension": ".py",
   "mimetype": "text/x-python",
   "name": "python",
   "nbconvert_exporter": "python",
   "pygments_lexer": "ipython3",
   "version": "3.9.7"
  }
 },
 "nbformat": 4,
 "nbformat_minor": 2
}
