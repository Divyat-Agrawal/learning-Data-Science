{
 "cells": [
  {
   "cell_type": "markdown",
   "metadata": {},
   "source": [
    "# Introduction to Matplotlib\n",
    "\n",
    "Get straight into plotting data, that's what we're focused on.\n",
    "\n",
    "Video 0 will be concepts and contain details like anatomy of a figure. The rest of the videos will be pure code based.\n",
    "\n",
    "1.Concepts in Matplotlib\n",
    "\n",
    "2.two ways of creating plots (pyplot & OO) - use the OO method\n",
    "\n",
    "3.Plotting data (NumPy arrays), line, scatter, bar, hist, subplots\n",
    "\n",
    "4.Plotting data directly with Pandas (using the pandas matplotlib wrapper)\n",
    "\n",
    "5.Plotting data (pandas DataFrames) with the OO method, line, scatter, bar, hist, subplots\n",
    "\n",
    "6.Cutomizing your plots, limits, colors, styles, legends\n",
    "\n",
    "7.Saving plots\n",
    "\n",
    "## 0. Concepts in Matplotlib\n",
    "What is Matplotlib?\n",
    "\n",
    "Why Matplotlib?\n",
    "\n",
    "Anatomy of a figure\n",
    "\n",
    "Where does Matplotlib fit into the ecosystem?\n",
    "\n",
    "A Matplotlib workflow\n",
    "## 1. 2 ways of creating plots\n",
    "pyplot()\n",
    "OO - https://matplotlib.org/api/_as_gen/matplotlib.pyplot.subplots.html\n",
    "Matplotlib recommends the OO API\n",
    "\n",
    "https://matplotlib.org/tutorials/introductory/pyplot.html#sphx-glr-tutorials-introductory-pyplot-py\n",
    "\n",
    "https://matplotlib.org/3.1.1/tutorials/introductory/lifecycle.html\n",
    "\n",
    "Start by importing Matplotlib and setting up the %matplotlib inline magic command."
   ]
  },
  {
   "cell_type": "code",
   "execution_count": null,
   "metadata": {},
   "outputs": [],
   "source": [
    "# Import matplotlib and setup the figures to display within the notebook\n",
    "%matplotlib inline\n",
    "import matplotlib.pyplot as plt"
   ]
  },
  {
   "cell_type": "code",
   "execution_count": null,
   "metadata": {},
   "outputs": [],
   "source": []
  }
 ],
 "metadata": {
  "kernelspec": {
   "display_name": "base",
   "language": "python",
   "name": "python3"
  },
  "language_info": {
   "name": "python",
   "version": "3.9.7"
  }
 },
 "nbformat": 4,
 "nbformat_minor": 2
}
